{
  "nbformat": 4,
  "nbformat_minor": 0,
  "metadata": {
    "colab": {
      "provenance": [],
      "authorship_tag": "ABX9TyMV4CHmVncL9vwanG5cbdXb",
      "include_colab_link": true
    },
    "kernelspec": {
      "name": "python3",
      "display_name": "Python 3"
    },
    "language_info": {
      "name": "python"
    }
  },
  "cells": [
    {
      "cell_type": "markdown",
      "metadata": {
        "id": "view-in-github",
        "colab_type": "text"
      },
      "source": [
        "<a href=\"https://colab.research.google.com/github/Prathamgupta19/Machine-learning-projects-/blob/main/link_to_resume_pdf_pc.ipynb\" target=\"_parent\"><img src=\"https://colab.research.google.com/assets/colab-badge.svg\" alt=\"Open In Colab\"/></a>"
      ]
    },
    {
      "cell_type": "code",
      "execution_count": null,
      "metadata": {
        "colab": {
          "base_uri": "https://localhost:8080/"
        },
        "id": "-Mrxsnen3KJ8",
        "outputId": "f6f25119-a8e4-413e-f219-10565fe291a9"
      },
      "outputs": [
        {
          "output_type": "stream",
          "name": "stderr",
          "text": [
            "Downloading...\n",
            "From: https://drive.google.com/uc?id=1sAWpj-sdmtTnEdI3cgHSERPD6pV0MnLe\n",
            "To: /content/resumes/Arpit Pandey.pdf\n",
            "100%|██████████| 116k/116k [00:00<00:00, 65.0MB/s]\n"
          ]
        },
        {
          "output_type": "stream",
          "name": "stdout",
          "text": [
            "Downloaded resume for Arpit Pandey\n",
            "Invalid link for Vikram Kumar Deo\n"
          ]
        },
        {
          "output_type": "stream",
          "name": "stderr",
          "text": [
            "Downloading...\n",
            "From: https://drive.google.com/uc?id=1yjvL5LVGy0MvQvApub4y2zdaHVWrC05h\n",
            "To: /content/resumes/Madhur Verma.pdf\n",
            "100%|██████████| 225k/225k [00:00<00:00, 75.2MB/s]\n"
          ]
        },
        {
          "output_type": "stream",
          "name": "stdout",
          "text": [
            "Downloaded resume for Madhur Verma\n"
          ]
        },
        {
          "output_type": "stream",
          "name": "stderr",
          "text": [
            "Downloading...\n",
            "From: https://drive.google.com/uc?id=1a-novckP3bBIBeMCGclM335_e4AE3Num\n",
            "To: /content/resumes/Saksham Rana.pdf\n",
            "100%|██████████| 306k/306k [00:00<00:00, 75.4MB/s]\n"
          ]
        },
        {
          "output_type": "stream",
          "name": "stdout",
          "text": [
            "Downloaded resume for Saksham Rana\n"
          ]
        },
        {
          "output_type": "stream",
          "name": "stderr",
          "text": [
            "Downloading...\n",
            "From: https://drive.google.com/uc?id=1iix1BCcgwJlrTkY14A3h7s0PDXtrRyYP\n",
            "To: /content/resumes/Sunil Kumawat.pdf\n",
            "100%|██████████| 46.8k/46.8k [00:00<00:00, 46.1MB/s]\n"
          ]
        },
        {
          "output_type": "stream",
          "name": "stdout",
          "text": [
            "Downloaded resume for Sunil Kumawat\n"
          ]
        },
        {
          "output_type": "stream",
          "name": "stderr",
          "text": [
            "Downloading...\n",
            "From: https://drive.google.com/uc?id=1o2buy4Yr-7cqxvlljDty4odw07y93YvR\n",
            "To: /content/resumes/Sitesh Badola.pdf\n",
            "100%|██████████| 358k/358k [00:00<00:00, 81.6MB/s]\n"
          ]
        },
        {
          "output_type": "stream",
          "name": "stdout",
          "text": [
            "Downloaded resume for Sitesh Badola\n"
          ]
        },
        {
          "output_type": "stream",
          "name": "stderr",
          "text": [
            "Downloading...\n",
            "From: https://drive.google.com/uc?id=1A9ggn1IEQeLPCVGcPSSd-E5tBN8bXjtg\n",
            "To: /content/resumes/Rajesh Sharma.pdf\n",
            "100%|██████████| 262k/262k [00:00<00:00, 75.9MB/s]\n"
          ]
        },
        {
          "output_type": "stream",
          "name": "stdout",
          "text": [
            "Downloaded resume for Rajesh Sharma\n"
          ]
        },
        {
          "output_type": "stream",
          "name": "stderr",
          "text": [
            "Downloading...\n",
            "From: https://drive.google.com/uc?id=10Vkeb--CggpxSS4pE7uFhKKABLd9rOrM\n",
            "To: /content/resumes/Chitresh Shahi.pdf\n",
            "100%|██████████| 143k/143k [00:00<00:00, 66.7MB/s]\n"
          ]
        },
        {
          "output_type": "stream",
          "name": "stdout",
          "text": [
            "Downloaded resume for Chitresh Shahi\n",
            "Invalid link for Gyanesh Kumar\n"
          ]
        },
        {
          "output_type": "stream",
          "name": "stderr",
          "text": [
            "Downloading...\n",
            "From: https://drive.google.com/uc?id=1-lCAhoDCWFte5uf78kXa5rx9oqel_ixd\n",
            "To: /content/resumes/HARSH PRIYA GAUTAM.pdf\n",
            "100%|██████████| 185k/185k [00:00<00:00, 74.7MB/s]\n"
          ]
        },
        {
          "output_type": "stream",
          "name": "stdout",
          "text": [
            "Downloaded resume for HARSH PRIYA GAUTAM\n"
          ]
        },
        {
          "output_type": "stream",
          "name": "stderr",
          "text": [
            "Downloading...\n",
            "From: https://drive.google.com/uc?id=1O4YOHhHq1vMU2eOIRAn4ZrS0_kTW6fow\n",
            "To: /content/resumes/Nehal Ashraf.pdf\n",
            "100%|██████████| 737k/737k [00:00<00:00, 93.5MB/s]\n"
          ]
        },
        {
          "output_type": "stream",
          "name": "stdout",
          "text": [
            "Downloaded resume for Nehal Ashraf\n"
          ]
        },
        {
          "output_type": "stream",
          "name": "stderr",
          "text": [
            "Downloading...\n",
            "From: https://drive.google.com/uc?id=1qIZ7m39tSFD3p_xyKuPE9R2jLwGcUKOd\n",
            "To: /content/resumes/Harsh Kumar.pdf\n",
            "100%|██████████| 64.4k/64.4k [00:00<00:00, 57.2MB/s]\n"
          ]
        },
        {
          "output_type": "stream",
          "name": "stdout",
          "text": [
            "Downloaded resume for Harsh Kumar\n"
          ]
        },
        {
          "output_type": "stream",
          "name": "stderr",
          "text": [
            "Downloading...\n",
            "From: https://drive.google.com/uc?id=1_LrIMffTmvOUjWyUiPmCrV7jMi5xTmWm\n",
            "To: /content/resumes/Ankit Kaswan.pdf\n",
            "100%|██████████| 240k/240k [00:00<00:00, 71.8MB/s]\n"
          ]
        },
        {
          "output_type": "stream",
          "name": "stdout",
          "text": [
            "Downloaded resume for Ankit Kaswan\n"
          ]
        },
        {
          "output_type": "stream",
          "name": "stderr",
          "text": [
            "Downloading...\n",
            "From: https://drive.google.com/uc?id=1FFhAtZT7O5GkFOQlAUIrgw4PRKmCmenf\n",
            "To: /content/resumes/Priyanshu.pdf\n",
            "100%|██████████| 347k/347k [00:00<00:00, 73.8MB/s]\n"
          ]
        },
        {
          "output_type": "stream",
          "name": "stdout",
          "text": [
            "Downloaded resume for Priyanshu\n"
          ]
        },
        {
          "output_type": "stream",
          "name": "stderr",
          "text": [
            "Downloading...\n",
            "From: https://drive.google.com/uc?id=1J841Iyd4AjM-zqVbE03LP85hzze-Cl1C\n",
            "To: /content/resumes/Aakarsh Gunjesh.pdf\n",
            "100%|██████████| 296k/296k [00:00<00:00, 78.9MB/s]\n"
          ]
        },
        {
          "output_type": "stream",
          "name": "stdout",
          "text": [
            "Downloaded resume for Aakarsh Gunjesh\n"
          ]
        },
        {
          "output_type": "stream",
          "name": "stderr",
          "text": [
            "Downloading...\n",
            "From: https://drive.google.com/uc?id=1tikTletx6cWD93ts8QMDuC5NtMmZYc7p\n",
            "To: /content/resumes/Garvish Khurana.pdf\n",
            "100%|██████████| 200k/200k [00:00<00:00, 31.4MB/s]\n"
          ]
        },
        {
          "output_type": "stream",
          "name": "stdout",
          "text": [
            "Downloaded resume for Garvish Khurana\n"
          ]
        },
        {
          "output_type": "stream",
          "name": "stderr",
          "text": [
            "Downloading...\n",
            "From: https://drive.google.com/uc?id=1QKB8OwK98EmZWr4lWsvI0wyv-4MG8d9X\n",
            "To: /content/resumes/Kushagra Kishore.pdf\n",
            "100%|██████████| 482k/482k [00:00<00:00, 91.6MB/s]\n"
          ]
        },
        {
          "output_type": "stream",
          "name": "stdout",
          "text": [
            "Downloaded resume for Kushagra Kishore\n"
          ]
        },
        {
          "output_type": "stream",
          "name": "stderr",
          "text": [
            "Downloading...\n",
            "From: https://drive.google.com/uc?id=1-QOM0M8TJNlQutJhRRj8oAok1TJLGdx2\n",
            "To: /content/resumes/Chirag Prabhat.pdf\n",
            "100%|██████████| 90.1k/90.1k [00:00<00:00, 58.1MB/s]\n"
          ]
        },
        {
          "output_type": "stream",
          "name": "stdout",
          "text": [
            "Downloaded resume for Chirag Prabhat\n"
          ]
        },
        {
          "output_type": "stream",
          "name": "stderr",
          "text": [
            "Downloading...\n",
            "From: https://drive.google.com/uc?id=1TmXm5gcMeEehGOL26NnVGIio25UCV_4n\n",
            "To: /content/resumes/Sarthak Aggarwal.pdf\n",
            "100%|██████████| 105k/105k [00:00<00:00, 59.2MB/s]"
          ]
        },
        {
          "output_type": "stream",
          "name": "stdout",
          "text": [
            "Downloaded resume for Sarthak Aggarwal\n"
          ]
        },
        {
          "output_type": "stream",
          "name": "stderr",
          "text": [
            "\n"
          ]
        }
      ],
      "source": [
        "import pandas as pd\n",
        "import gdown\n",
        "import re\n",
        "import os\n",
        "\n",
        "# Read Excel file\n",
        "df = pd.read_excel('/content/ti fte resume data .xlsx')\n",
        "\n",
        "# Make a folder for resumes\n",
        "os.makedirs(\"resumes\", exist_ok=True)\n",
        "\n",
        "for index, row in df.iterrows():\n",
        "    name = str(row['Candidate Name']).strip()\n",
        "    link = str(row['resume']).strip()  # Changed 'Resume' to 'resume'\n",
        "\n",
        "    # Extract Google Drive file ID\n",
        "    match = re.search(r'/d/([a-zA-Z0-9_-]+)', link)\n",
        "    if match:\n",
        "        file_id = match.group(1)\n",
        "        url = f\"https://drive.google.com/uc?id={file_id}\"\n",
        "\n",
        "        # Output path\n",
        "        output_path = f\"resumes/{name}.pdf\"\n",
        "\n",
        "        try:\n",
        "            gdown.download(url, output_path, quiet=False)\n",
        "            print(f\"Downloaded resume for {name}\")\n",
        "        except Exception as e:\n",
        "            print(f\"Failed for {name}: {e}\")\n",
        "    else:\n",
        "        print(f\"Invalid link for {name}\")"
      ]
    },
    {
      "cell_type": "code",
      "source": [
        "import shutil\n",
        "from google.colab import files\n",
        "\n",
        "# Zip the resumes folder\n",
        "shutil.make_archive(\"resumes_download\", 'zip', \"resumes\")\n",
        "\n",
        "# Download the zip to your local system\n",
        "files.download(\"resumes_download.zip\")\n"
      ],
      "metadata": {
        "colab": {
          "base_uri": "https://localhost:8080/",
          "height": 17
        },
        "id": "c9to3Ljf5u0H",
        "outputId": "017ebf9e-0ce0-4784-bdab-eb3808a94d0c"
      },
      "execution_count": null,
      "outputs": [
        {
          "output_type": "display_data",
          "data": {
            "text/plain": [
              "<IPython.core.display.Javascript object>"
            ],
            "application/javascript": [
              "\n",
              "    async function download(id, filename, size) {\n",
              "      if (!google.colab.kernel.accessAllowed) {\n",
              "        return;\n",
              "      }\n",
              "      const div = document.createElement('div');\n",
              "      const label = document.createElement('label');\n",
              "      label.textContent = `Downloading \"${filename}\": `;\n",
              "      div.appendChild(label);\n",
              "      const progress = document.createElement('progress');\n",
              "      progress.max = size;\n",
              "      div.appendChild(progress);\n",
              "      document.body.appendChild(div);\n",
              "\n",
              "      const buffers = [];\n",
              "      let downloaded = 0;\n",
              "\n",
              "      const channel = await google.colab.kernel.comms.open(id);\n",
              "      // Send a message to notify the kernel that we're ready.\n",
              "      channel.send({})\n",
              "\n",
              "      for await (const message of channel.messages) {\n",
              "        // Send a message to notify the kernel that we're ready.\n",
              "        channel.send({})\n",
              "        if (message.buffers) {\n",
              "          for (const buffer of message.buffers) {\n",
              "            buffers.push(buffer);\n",
              "            downloaded += buffer.byteLength;\n",
              "            progress.value = downloaded;\n",
              "          }\n",
              "        }\n",
              "      }\n",
              "      const blob = new Blob(buffers, {type: 'application/binary'});\n",
              "      const a = document.createElement('a');\n",
              "      a.href = window.URL.createObjectURL(blob);\n",
              "      a.download = filename;\n",
              "      div.appendChild(a);\n",
              "      a.click();\n",
              "      div.remove();\n",
              "    }\n",
              "  "
            ]
          },
          "metadata": {}
        },
        {
          "output_type": "display_data",
          "data": {
            "text/plain": [
              "<IPython.core.display.Javascript object>"
            ],
            "application/javascript": [
              "download(\"download_95f45932-6065-44d1-a8cc-5a040c8ce710\", \"resumes_download.zip\", 4012103)"
            ]
          },
          "metadata": {}
        }
      ]
    }
  ]
}